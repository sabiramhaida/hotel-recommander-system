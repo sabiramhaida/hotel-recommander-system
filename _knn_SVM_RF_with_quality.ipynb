{
  "nbformat": 4,
  "nbformat_minor": 0,
  "metadata": {
    "colab": {
      "name": "Copy of knn_kmeans_with_quality.ipynb",
      "provenance": [],
      "collapsed_sections": []
    },
    "kernelspec": {
      "name": "python3",
      "display_name": "Python 3"
    }
  },
  "cells": [
    {
      "cell_type": "code",
      "metadata": {
        "id": "yQvb669rQ7S1",
        "colab_type": "code",
        "colab": {}
      },
      "source": [
        "import numpy as np\n",
        "import matplotlib.pyplot as plt\n",
        "import pandas as pd\n",
        "from sklearn.model_selection import train_test_split\n",
        "from sklearn.preprocessing import StandardScaler\n",
        "from sklearn.neighbors import KNeighborsClassifier\n",
        "from sklearn.metrics import classification_report, confusion_matrix\n",
        "from sklearn.neighbors import NearestNeighbors\n",
        "from datetime import datetime\n",
        "import random \n",
        "import time\n",
        "from random import randint\n",
        "from sklearn import metrics\n",
        "from sklearn.cluster import KMeans\n",
        "from sklearn.metrics import accuracy_score\n",
        "from sklearn.model_selection import cross_val_score\n",
        "# random forest for feature importance on a classification problem\n",
        "from sklearn.datasets import make_classification\n",
        "from sklearn.ensemble import RandomForestClassifier"
      ],
      "execution_count": 0,
      "outputs": []
    },
    {
      "cell_type": "code",
      "metadata": {
        "id": "brHw4zUYUh3B",
        "colab_type": "code",
        "colab": {}
      },
      "source": [
        "userDatasetCsv = pd.read_csv('users_data.csv',sep=',')\n",
        "userDatasetCsv.dropna()\n",
        "#userDataset = userDataset.drop_duplicates(['username','hotel_name'])\n",
        "hotelFullDataset = pd.read_csv('Hotels.csv',sep=',')\n",
        "hotelFullDataset.dropna()\n",
        "hotelFullDataset.drop_duplicates(subset =\"name\", keep = \"first\", inplace = True) \n",
        "#merge = pd.merge(hotelFullDataset,userDataset,right_on='hotel_name',left_on='name')\n",
        "#merge = merge[merge.columns.difference(['name'])]\n",
        "#print(merge[['hotel_name','username']].groupby(['hotel_name','username'])['hotel_name','username'].describe())\n",
        "print(hotelFullDataset)"
      ],
      "execution_count": 0,
      "outputs": []
    },
    {
      "cell_type": "code",
      "metadata": {
        "id": "yK_dxl5NkZ0Q",
        "colab_type": "code",
        "colab": {}
      },
      "source": [
        "userDataset = userDatasetCsv\n",
        "print(userDataset)"
      ],
      "execution_count": 0,
      "outputs": []
    },
    {
      "cell_type": "code",
      "metadata": {
        "id": "oEFuZGNYWMKt",
        "colab_type": "code",
        "colab": {}
      },
      "source": [
        "#hotelFullDataset['property_amenties'] = hotelFullDataset['property_amenties'].apply(lambda x: x.split(' '))"
      ],
      "execution_count": 0,
      "outputs": []
    },
    {
      "cell_type": "code",
      "metadata": {
        "id": "L_Wf-3VUVuXS",
        "colab_type": "code",
        "colab": {}
      },
      "source": [
        "#list_of_properties = hotelFullDataset.property_amenties\n",
        "#list_of_properties.values.tolist()"
      ],
      "execution_count": 0,
      "outputs": []
    },
    {
      "cell_type": "code",
      "metadata": {
        "id": "iGKD2mfDWSWk",
        "colab_type": "code",
        "colab": {}
      },
      "source": [
        "#list_of_unique_properties = []\n",
        "#for list in list_of_properties:\n",
        "#    for pr in list:\n",
        "#        if pr not in list_of_unique_properties:\n",
        "#            list_of_unique_properties.append(pr)\n",
        "#print (list_of_unique_properties)"
      ],
      "execution_count": 0,
      "outputs": []
    },
    {
      "cell_type": "code",
      "metadata": {
        "id": "1MDwmangXi8g",
        "colab_type": "code",
        "colab": {}
      },
      "source": [
        "#def reOrdering_properties(original_list):\n",
        "#    arr = []\n",
        "#    for pr in list_of_unique_properties:\n",
        "#        if pr in original_list :\n",
        "#            arr.append(pr)\n",
        "#        else:\n",
        "#            arr.append('')\n",
        "#    return arr"
      ],
      "execution_count": 0,
      "outputs": []
    },
    {
      "cell_type": "code",
      "metadata": {
        "id": "5s8pgn4xX764",
        "colab_type": "code",
        "colab": {}
      },
      "source": [
        "#hotelFullDataset['property_amenties'] = hotelFullDataset.property_amenties.apply(lambda hotel_row: reOrdering_properties(hotel_row))"
      ],
      "execution_count": 0,
      "outputs": []
    },
    {
      "cell_type": "code",
      "metadata": {
        "id": "3x4nYYglYy48",
        "colab_type": "code",
        "colab": {}
      },
      "source": [
        "#property_amen_df = pd.DataFrame()"
      ],
      "execution_count": 0,
      "outputs": []
    },
    {
      "cell_type": "code",
      "metadata": {
        "id": "q3HcekezY75O",
        "colab_type": "code",
        "colab": {}
      },
      "source": [
        "#property_amen_df[list_of_unique_properties] = pd.DataFrame([x for x in hotelFullDataset.property_amenties])"
      ],
      "execution_count": 0,
      "outputs": []
    },
    {
      "cell_type": "code",
      "metadata": {
        "id": "O4GJE46WZ70a",
        "colab_type": "code",
        "colab": {}
      },
      "source": [
        "#property_amen_df.head(5)"
      ],
      "execution_count": 0,
      "outputs": []
    },
    {
      "cell_type": "code",
      "metadata": {
        "id": "M2KuFeFFbJi1",
        "colab_type": "code",
        "colab": {}
      },
      "source": [
        "#property_amen_df = property_amen_df.applymap(lambda x: 1 if x != '' else 0)"
      ],
      "execution_count": 0,
      "outputs": []
    },
    {
      "cell_type": "code",
      "metadata": {
        "id": "_QR9ZYBGbNhQ",
        "colab_type": "code",
        "colab": {}
      },
      "source": [
        "#property_amen_df.head(5)"
      ],
      "execution_count": 0,
      "outputs": []
    },
    {
      "cell_type": "code",
      "metadata": {
        "id": "M_TbpNKOB4NT",
        "colab_type": "code",
        "colab": {}
      },
      "source": [
        "#print(property_amen_df.shape)\n",
        "#print(hotelFullDataset.shape)"
      ],
      "execution_count": 0,
      "outputs": []
    },
    {
      "cell_type": "code",
      "metadata": {
        "id": "5fa9qpG6B5M4",
        "colab_type": "code",
        "colab": {}
      },
      "source": [
        "#ppties = []\n",
        "#for i in range(len(list_of_unique_properties)):\n",
        "#  if (property_amen_df[list_of_unique_properties[i]].sum() < 50 ):\n",
        "#    if(list_of_unique_properties[i] not  in ppties and list_of_unique_properties[i]!='' ):\n",
        "#      ppties.append(list_of_unique_properties[i])\n",
        "#ppties"
      ],
      "execution_count": 0,
      "outputs": []
    },
    {
      "cell_type": "code",
      "metadata": {
        "id": "cFWQjfRt0mxz",
        "colab_type": "code",
        "colab": {}
      },
      "source": [
        "#hotelFullDataset['property_amenties'] = hotelFullDataset.property_amenties.apply(lambda hotel_row: reOrdering_properties(hotel_row))"
      ],
      "execution_count": 0,
      "outputs": []
    },
    {
      "cell_type": "code",
      "metadata": {
        "id": "nrptDtvWtLU0",
        "colab_type": "code",
        "colab": {}
      },
      "source": [
        "#list_of_unique_properties = ppties\n"
      ],
      "execution_count": 0,
      "outputs": []
    },
    {
      "cell_type": "code",
      "metadata": {
        "id": "3v99-00kCZq9",
        "colab_type": "code",
        "colab": {}
      },
      "source": [
        "#hotelFullDataset = hotelFullDataset[hotelFullDataset.hotel_class.notnull()].reset_index()"
      ],
      "execution_count": 0,
      "outputs": []
    },
    {
      "cell_type": "code",
      "metadata": {
        "id": "OPJ3ktlQbl9m",
        "colab_type": "code",
        "colab": {}
      },
      "source": [
        "#hotelFullDataset = pd.concat([hotelFullDataset, property_amen_df], axis=1)"
      ],
      "execution_count": 0,
      "outputs": []
    },
    {
      "cell_type": "code",
      "metadata": {
        "id": "Cn9ywu4bddiG",
        "colab_type": "code",
        "colab": {}
      },
      "source": [
        "#hotelFullDataset.shape"
      ],
      "execution_count": 0,
      "outputs": []
    },
    {
      "cell_type": "code",
      "metadata": {
        "id": "XlXdunxmeDar",
        "colab_type": "code",
        "colab": {}
      },
      "source": [
        "hotelFullDataset.hotel_class.isnull().sum()"
      ],
      "execution_count": 0,
      "outputs": []
    },
    {
      "cell_type": "code",
      "metadata": {
        "id": "jtUKjIvIeuOk",
        "colab_type": "code",
        "colab": {
          "base_uri": "https://localhost:8080/",
          "height": 205
        },
        "outputId": "c367cbe4-9182-4091-ac44-41a7e3b132aa"
      },
      "source": [
        "hotelFullDataset.head(1)"
      ],
      "execution_count": 468,
      "outputs": [
        {
          "output_type": "execute_result",
          "data": {
            "text/html": [
              "<div>\n",
              "<style scoped>\n",
              "    .dataframe tbody tr th:only-of-type {\n",
              "        vertical-align: middle;\n",
              "    }\n",
              "\n",
              "    .dataframe tbody tr th {\n",
              "        vertical-align: top;\n",
              "    }\n",
              "\n",
              "    .dataframe thead th {\n",
              "        text-align: right;\n",
              "    }\n",
              "</style>\n",
              "<table border=\"1\" class=\"dataframe\">\n",
              "  <thead>\n",
              "    <tr style=\"text-align: right;\">\n",
              "      <th></th>\n",
              "      <th>name</th>\n",
              "      <th>url</th>\n",
              "      <th>Country</th>\n",
              "      <th>Region</th>\n",
              "      <th>Street</th>\n",
              "      <th>Zip</th>\n",
              "      <th>location</th>\n",
              "      <th>property_amenties</th>\n",
              "      <th>room_features</th>\n",
              "      <th>hotel_style</th>\n",
              "      <th>hotel_class</th>\n",
              "      <th>price</th>\n",
              "      <th>hotel_score_reviews</th>\n",
              "      <th>totalReview</th>\n",
              "      <th>location_score</th>\n",
              "      <th>cleanliness_score</th>\n",
              "      <th>service_score</th>\n",
              "      <th>value_score</th>\n",
              "    </tr>\n",
              "  </thead>\n",
              "  <tbody>\n",
              "    <tr>\n",
              "      <th>0</th>\n",
              "      <td>Radisson Blu Royal Viking Hotel, Stockholm</td>\n",
              "      <td>https://www.tripadvisor.in/Hotel_Review-g18985...</td>\n",
              "      <td>Sweden</td>\n",
              "      <td>Sweden Stockholm Norrmalm</td>\n",
              "      <td>1 Vasagatan P.O. Box 234</td>\n",
              "      <td>111 20</td>\n",
              "      <td>1 Vasagatan P.O. Box 234, Stockholm 111 20 Sweden</td>\n",
              "      <td>Parking Free_High_Speed_Internet_(WiFi) Pool F...</td>\n",
              "      <td>Air_conditioning Housekeeping Room_service Saf...</td>\n",
              "      <td>Business Centrally_Located</td>\n",
              "      <td>4.0</td>\n",
              "      <td>1643.0</td>\n",
              "      <td>4.0</td>\n",
              "      <td>481</td>\n",
              "      <td>4.5</td>\n",
              "      <td>4.5</td>\n",
              "      <td>4.0</td>\n",
              "      <td>4.0</td>\n",
              "    </tr>\n",
              "  </tbody>\n",
              "</table>\n",
              "</div>"
            ],
            "text/plain": [
              "                                         name  ... value_score\n",
              "0  Radisson Blu Royal Viking Hotel, Stockholm  ...         4.0\n",
              "\n",
              "[1 rows x 18 columns]"
            ]
          },
          "metadata": {
            "tags": []
          },
          "execution_count": 468
        }
      ]
    },
    {
      "cell_type": "code",
      "metadata": {
        "id": "9KHH0jgy403n",
        "colab_type": "code",
        "colab": {}
      },
      "source": [
        "#print(hotelFullDataset.columns)\n",
        "merge = pd.merge(hotelFullDataset,userDataset,left_on='name',right_on='hotel_name')\n",
        "\n",
        "#merge = merge[['hotel_class','price','location_score','cleanliness_score','service_score','value_score','score']]\n",
        "hotelsFinalData = merge.iloc[:,10:]\n",
        "hotelsFinalData.drop(['username','hotel_name'], axis=1, inplace=True)\n",
        "print(hotelsFinalData.columns)\n"
      ],
      "execution_count": 0,
      "outputs": []
    },
    {
      "cell_type": "code",
      "metadata": {
        "id": "m7BDE0koBgE6",
        "colab_type": "code",
        "colab": {}
      },
      "source": [
        "hotelsFinalData.sum()"
      ],
      "execution_count": 0,
      "outputs": []
    },
    {
      "cell_type": "code",
      "metadata": {
        "id": "yO0lEsiu9jnr",
        "colab_type": "code",
        "colab": {}
      },
      "source": [
        "_exeptScore = hotelsFinalData.columns.difference(['score'])\n",
        "hotelsFinalData[_exeptScore]=((hotelsFinalData[_exeptScore]-hotelsFinalData[_exeptScore].min())/(hotelsFinalData[_exeptScore].max()-hotelsFinalData[_exeptScore].min()))*20"
      ],
      "execution_count": 0,
      "outputs": []
    },
    {
      "cell_type": "code",
      "metadata": {
        "id": "ulk3JzUI-NUt",
        "colab_type": "code",
        "colab": {}
      },
      "source": [
        "hotelsFinalData.sample(8)"
      ],
      "execution_count": 0,
      "outputs": []
    },
    {
      "cell_type": "code",
      "metadata": {
        "id": "rOujYbu2g6kI",
        "colab_type": "code",
        "colab": {}
      },
      "source": [
        "\n",
        "hotelsFinalData = hotelsFinalData.dropna()\n",
        "for column in hotelsFinalData.columns:\n",
        "  print(\"correlation with : \",column)\n",
        "  print(abs(hotelsFinalData['score'].corr(hotelsFinalData[column],method ='pearson')) * 100)\n",
        "\n",
        "target_attribute = hotelsFinalData['score'].values\n",
        "\n",
        "data = hotelsFinalData.drop(columns = ['score'], axis = 1).values\n",
        "#target_attribute.reset_index()\n",
        "#hotelsFinalData = hotelsFinalData.reset_index()\n",
        "\n",
        "X_train, X_test, y_train, y_test = train_test_split(data, target_attribute, test_size=0.2)"
      ],
      "execution_count": 0,
      "outputs": []
    },
    {
      "cell_type": "code",
      "metadata": {
        "id": "vopEdvY-mgZH",
        "colab_type": "code",
        "colab": {}
      },
      "source": [
        "def knn_model_quality():\n",
        "  max = 0\n",
        "  for k in range(1,30):\n",
        "    knn = KNeighborsClassifier(n_neighbors=k)\n",
        "    #Train the model using the training sets\n",
        "    knn.fit(X_train, y_train)\n",
        "    #Predict the response for test dataset\n",
        "    y_pred = knn.predict(X_test)\n",
        "    accuracy = metrics.accuracy_score(y_test, y_pred)\n",
        "    if(max < accuracy):\n",
        "      bestIndex = k\n",
        "      max = accuracy\n",
        "  print(\"best k : \",bestIndex,\" The accuracy of knn is {:.2f} : \".format(max))"
      ],
      "execution_count": 0,
      "outputs": []
    },
    {
      "cell_type": "code",
      "metadata": {
        "id": "UrfCimORVwqL",
        "colab_type": "code",
        "colab": {}
      },
      "source": [
        "def kmeans_model_quality():\n",
        "  max = 0\n",
        "  for k in range(1,20):\n",
        "    kmeans = KMeans(n_clusters=k, max_iter=600, algorithm = 'auto')\n",
        "    kmeans.fit(X_train, y_train)\n",
        "    y_pred = kmeans.predict(X_test)\n",
        "    accuracy = metrics.accuracy_score(y_test, y_pred)\n",
        "    if(max < accuracy):\n",
        "      bestIndex = k\n",
        "      max = accuracy\n",
        "  print(\"best k : \",bestIndex,\" The accuracy of kmeans is {:.2f} : \".format(max))"
      ],
      "execution_count": 0,
      "outputs": []
    },
    {
      "cell_type": "code",
      "metadata": {
        "id": "SkayFloQL_sg",
        "colab_type": "code",
        "colab": {}
      },
      "source": [
        "from sklearn.svm import SVC\n",
        "\n",
        "def svm_quality():\n",
        "  svm = SVC(kernel='rbf', random_state=0, gamma=.10, C=1.0)\n",
        "  svm.fit(X_train, y_train)\n",
        "  accuracy = cross_val_score(svm, X_train, y_train, cv=10, scoring='accuracy')\n",
        "  print('The accuracy of the svm classifier on test data is {:.2f}'.format(accuracy))\n"
      ],
      "execution_count": 0,
      "outputs": []
    },
    {
      "cell_type": "code",
      "metadata": {
        "id": "uVRjfRzINRAU",
        "colab_type": "code",
        "colab": {}
      },
      "source": [
        "import xgboost as xgb\n",
        "def xgboost_quality():\n",
        "  xgb_clf = xgb.XGBClassifier()\n",
        "  xgb_clf = xgb_clf.fit(X_train, y_train)\n",
        "  print('The accuracy of the xgb classifier is {:.2f} '.format(xgb_clf.score(X_test, y_test)))"
      ],
      "execution_count": 0,
      "outputs": []
    },
    {
      "cell_type": "code",
      "metadata": {
        "id": "hgVDPu_sMX6L",
        "colab_type": "code",
        "colab": {}
      },
      "source": [
        "knn_model_quality()\n",
        "kmeans_model_quality()\n",
        "svm_quality()\n",
        "xgboost_quality()"
      ],
      "execution_count": 0,
      "outputs": []
    },
    {
      "cell_type": "code",
      "metadata": {
        "id": "gr3_GIefmW9b",
        "colab_type": "code",
        "colab": {}
      },
      "source": [
        "def knn_cross_validation():\n",
        "  neighbors = [i for i in range(1,100)]\n",
        "  cv_scores = []\n",
        "  for k in range(1,100):\n",
        "    knn = KNeighborsClassifier(n_neighbors=k)\n",
        "    accuracy = cross_val_score(knn, X_train, y_train, cv=10, scoring='accuracy')\n",
        "    cv_scores.append(1 - accuracy.mean())\n",
        "  optimal_k = neighbors[cv_scores.index(min(cv_scores))]\n",
        "\n",
        "  print(\"the best k is :\",optimal_k,\" with error rate of : \",cv_scores[optimal_k - 1])\n",
        "  # plot misclassification error vs k\n",
        "  plt.plot(neighbors, cv_scores)\n",
        "  plt.xlabel(\"Number of Neighbors K\")\n",
        "  plt.ylabel(\"Misclassification Error\")\n",
        "  plt.show()\n",
        "  return optimal_k"
      ],
      "execution_count": 0,
      "outputs": []
    },
    {
      "cell_type": "code",
      "metadata": {
        "id": "fJ1nXMNIm_x5",
        "colab_type": "code",
        "colab": {}
      },
      "source": [
        "best_k = knn_cross_validation()"
      ],
      "execution_count": 0,
      "outputs": []
    },
    {
      "cell_type": "code",
      "metadata": {
        "id": "DRtnqGsBoA0T",
        "colab_type": "code",
        "colab": {}
      },
      "source": [
        "def knn_model_quality_for_a_k(k):\n",
        "  knn = KNeighborsClassifier(n_neighbors=k)\n",
        "  knn.fit(X_train, y_train)\n",
        "  #Predict the response for test dataset\n",
        "  y_pred = knn.predict(X_test)\n",
        "  accuracy = metrics.accuracy_score(y_test, y_pred)\n",
        "  print(\"k : \",k,\" The accuracy of knn is : \",accuracy)"
      ],
      "execution_count": 0,
      "outputs": []
    },
    {
      "cell_type": "code",
      "metadata": {
        "id": "BobE1ZSAoCRt",
        "colab_type": "code",
        "colab": {}
      },
      "source": [
        "knn_model_quality_for_a_k(best_k)"
      ],
      "execution_count": 0,
      "outputs": []
    },
    {
      "cell_type": "code",
      "metadata": {
        "id": "5_sDLlwa_tZz",
        "colab_type": "code",
        "colab": {}
      },
      "source": [
        "def calculate_feature_significance():\n",
        "  model = RandomForestClassifier()\n",
        "  # fit the model\n",
        "  model.fit(X_train, y_train)\n",
        "  # get importance\n",
        "  importance = model.feature_importances_\n",
        "  # summarize feature importance\n",
        "  for i,v in enumerate(importance):\n",
        "    print(\"Feature : \",hotelsFinalData.columns[i],\" has a significance of : %.5f\" % v)\n",
        "  print(\"\\n\")"
      ],
      "execution_count": 0,
      "outputs": []
    },
    {
      "cell_type": "code",
      "metadata": {
        "id": "fsQCqi-gCCtc",
        "colab_type": "code",
        "colab": {
          "base_uri": "https://localhost:8080/",
          "height": 430
        },
        "outputId": "091de194-ecb3-493f-e561-ab6c14b2d702"
      },
      "source": [
        "\n",
        "# xgboost for feature importance on a regression problem\n",
        "from sklearn.datasets import make_regression\n",
        "from xgboost import XGBRegressor\n",
        "from matplotlib import pyplot\n",
        "# define dataset\n",
        "X, y = make_regression(n_samples=1000, n_features=10, n_informative=5, random_state=1)\n",
        "# define the model\n",
        "model = XGBRegressor()\n",
        "# fit the model\n",
        "model.fit(X_train, y_train)\n",
        "# get importance\n",
        "importance = model.feature_importances_\n",
        "# summarize feature importance\n",
        "for i,v in enumerate(importance):\n",
        "\tprint('Feature %0d: %0s, Score: %.5f' % (i,hotelsFinalData.columns[i],v))\n",
        "# plot feature importance\n",
        "pyplot.bar([x for x in range(len(importance))], importance)\n",
        "pyplot.show()"
      ],
      "execution_count": 484,
      "outputs": [
        {
          "output_type": "stream",
          "text": [
            "[22:16:13] WARNING: /workspace/src/objective/regression_obj.cu:152: reg:linear is now deprecated in favor of reg:squarederror.\n",
            "Feature 0: hotel_class, Score: 0.08795\n",
            "Feature 1: price, Score: 0.05427\n",
            "Feature 2: hotel_score_reviews, Score: 0.28838\n",
            "Feature 3: totalReview, Score: 0.06644\n",
            "Feature 4: location_score, Score: 0.05394\n",
            "Feature 5: cleanliness_score, Score: 0.30929\n",
            "Feature 6: service_score, Score: 0.06360\n",
            "Feature 7: value_score, Score: 0.07615\n"
          ],
          "name": "stdout"
        },
        {
          "output_type": "display_data",
          "data": {
            "image/png": "[encoded data removed]",
            "text/plain": [
              "<Figure size 432x288 with 1 Axes>"
            ]
          },
          "metadata": {
            "tags": [],
            "needs_background": "light"
          }
        }
      ]
    },
    {
      "cell_type": "code",
      "metadata": {
        "id": "RgmvmbbO_ueW",
        "colab_type": "code",
        "colab": {}
      },
      "source": [
        "calculate_feature_significance()"
      ],
      "execution_count": 0,
      "outputs": []
    },
    {
      "cell_type": "code",
      "metadata": {
        "id": "XuUpr4VbDqR8",
        "colab_type": "code",
        "colab": {
          "base_uri": "https://localhost:8080/",
          "height": 146
        },
        "outputId": "6c99dfc2-2243-4f0b-c6fc-a83a75beb9d3"
      },
      "source": [
        "# Import the model we are using\n",
        "from sklearn.ensemble import RandomForestRegressor# Instantiate model with 1000 decision trees\n",
        "rf = RandomForestRegressor(n_estimators = 1000, random_state = 42)# Train the model on training data\n",
        "rf.fit(X_train, y_train)"
      ],
      "execution_count": 486,
      "outputs": [
        {
          "output_type": "execute_result",
          "data": {
            "text/plain": [
              "RandomForestRegressor(bootstrap=True, ccp_alpha=0.0, criterion='mse',\n",
              "                      max_depth=None, max_features='auto', max_leaf_nodes=None,\n",
              "                      max_samples=None, min_impurity_decrease=0.0,\n",
              "                      min_impurity_split=None, min_samples_leaf=1,\n",
              "                      min_samples_split=2, min_weight_fraction_leaf=0.0,\n",
              "                      n_estimators=1000, n_jobs=None, oob_score=False,\n",
              "                      random_state=42, verbose=0, warm_start=False)"
            ]
          },
          "metadata": {
            "tags": []
          },
          "execution_count": 486
        }
      ]
    },
    {
      "cell_type": "code",
      "metadata": {
        "id": "csNx6OCqD7aQ",
        "colab_type": "code",
        "colab": {}
      },
      "source": [
        "# Use the forest's predict method on the test data\n",
        "predictions = rf.predict(X_test)# Calculate the absolute errors\n",
        "errors = abs(predictions - y_test)# Print out the mean absolute error (mae)\n",
        "print('Mean Absolute Error:', round(np.mean(errors), 2), 'degrees.')"
      ],
      "execution_count": 0,
      "outputs": []
    },
    {
      "cell_type": "code",
      "metadata": {
        "id": "luv0MsRfFWPH",
        "colab_type": "code",
        "colab": {
          "base_uri": "https://localhost:8080/",
          "height": 35
        },
        "outputId": "2869dc90-13e0-4583-badb-489bb7abb356"
      },
      "source": [
        "mape = 100 * (errors / y_test)\n",
        "accuracy = 100 - np.mean(mape)\n",
        "print('Accuracy:', round(accuracy, 2), '%.')\n",
        "$"
      ],
      "execution_count": 498,
      "outputs": [
        {
          "output_type": "stream",
          "text": [
            "Accuracy: 75.38 %.\n"
          ],
          "name": "stdout"
        }
      ]
    }
  ]
}